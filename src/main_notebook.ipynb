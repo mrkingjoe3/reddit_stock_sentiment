{
 "cells": [
  {
   "cell_type": "code",
   "execution_count": 32,
   "id": "e958ea03",
   "metadata": {},
   "outputs": [],
   "source": [
    "import pandas as pd\n",
    "import sentiment_model as SentimentModel\n",
    "import data_collection_processing as data_stuff"
   ]
  },
  {
   "cell_type": "code",
   "execution_count": null,
   "id": "f28d4672",
   "metadata": {},
   "outputs": [],
   "source": [
    "# To train the model on twitter tweets labeled positive/ negative\n",
    "# This will take a very long time\n",
    "model = SentimentModel.train_model()"
   ]
  },
  {
   "cell_type": "code",
   "execution_count": 33,
   "id": "334acfea",
   "metadata": {},
   "outputs": [
    {
     "name": "stderr",
     "output_type": "stream",
     "text": [
      "Some weights of the model checkpoint at bert-base-uncased were not used when initializing BertModel: ['cls.predictions.transform.LayerNorm.weight', 'cls.predictions.transform.dense.bias', 'cls.predictions.transform.dense.weight', 'cls.predictions.bias', 'cls.predictions.decoder.weight', 'cls.seq_relationship.weight', 'cls.predictions.transform.LayerNorm.bias', 'cls.seq_relationship.bias']\n",
      "- This IS expected if you are initializing BertModel from the checkpoint of a model trained on another task or with another architecture (e.g. initializing a BertForSequenceClassification model from a BertForPreTraining model).\n",
      "- This IS NOT expected if you are initializing BertModel from the checkpoint of a model that you expect to be exactly identical (initializing a BertForSequenceClassification model from a BertForSequenceClassification model).\n"
     ]
    }
   ],
   "source": [
    "# Load the model which has already been trained on the tweets \n",
    "model = SentimentModel.load_trained_model()"
   ]
  },
  {
   "cell_type": "code",
   "execution_count": null,
   "id": "63f66c27",
   "metadata": {},
   "outputs": [],
   "source": [
    "# Get new reddit data\n",
    "# This also takes a very long time\n",
    "my_username = input(\"Enter reddit username: \")\n",
    "my_password = input(\"enter reddit password: \")\n",
    "data = data_stuff.get_processed_data(my_username, my_password, True, False)"
   ]
  },
  {
   "cell_type": "code",
   "execution_count": 37,
   "id": "07af831e",
   "metadata": {},
   "outputs": [
    {
     "name": "stdout",
     "output_type": "stream",
     "text": [
      "Data loaded from data/data.csv\n",
      "Done with processing data. Now to get those tickers!\n",
      "Done with the tickers now!\n"
     ]
    }
   ],
   "source": [
    "# Load previously collected reddit data\n",
    "data = data_stuff.get_processed_data('none', 'none', True, True)"
   ]
  },
  {
   "cell_type": "code",
   "execution_count": null,
   "id": "fb359430",
   "metadata": {},
   "outputs": [],
   "source": [
    "# Get the tickers for this instance of data\n",
    "tickers = SentimentModel.get_most_popular_tickers(model, data)"
   ]
  },
  {
   "cell_type": "code",
   "execution_count": 34,
   "id": "b6751c4d",
   "metadata": {},
   "outputs": [
    {
     "data": {
      "text/plain": [
       "0"
      ]
     },
     "execution_count": 34,
     "metadata": {},
     "output_type": "execute_result"
    }
   ],
   "source": [
    "# Lets test the model out!\n",
    "model.get_sentiment('I am a bad person')"
   ]
  },
  {
   "cell_type": "code",
   "execution_count": null,
   "id": "6aa1984f",
   "metadata": {},
   "outputs": [],
   "source": [
    "tickers"
   ]
  },
  {
   "cell_type": "markdown",
   "id": "f75c959d",
   "metadata": {},
   "source": []
  }
 ],
 "metadata": {
  "kernelspec": {
   "display_name": "Python 3",
   "language": "python",
   "name": "python3"
  },
  "language_info": {
   "codemirror_mode": {
    "name": "ipython",
    "version": 3
   },
   "file_extension": ".py",
   "mimetype": "text/x-python",
   "name": "python",
   "nbconvert_exporter": "python",
   "pygments_lexer": "ipython3",
   "version": "3.9.1"
  }
 },
 "nbformat": 4,
 "nbformat_minor": 5
}
